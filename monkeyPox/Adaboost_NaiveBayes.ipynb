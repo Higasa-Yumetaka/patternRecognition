{
 "cells": [
  {
   "cell_type": "code",
   "outputs": [],
   "source": [
    "import numpy as np\n",
    "from loguru import logger\n",
    "\n",
    "from Naive_Bayes import NaiveBayes as NB\n",
    "from loadDataSet import loadDataSet\n",
    "\n",
    "\n",
    "class AdaBoost:\n",
    "    def __init__(self, T, dataset):\n",
    "        self._dataset = dataset  # 数据集 dataset\n",
    "        self._classifier = []  # 弱分类器 weak classifier\n",
    "        self._Weight_classifier = []  # 弱分类器的系数 weak classifier coefficient\n",
    "        self._error = []  # 弱分类器的误差 weak classifier error\n",
    "        self._T = T  # 弱分类器的个数 number of weak classifiers\n",
    "        self._Weight_sample = [1 / len(dataset) for _ in range(len(dataset))]  # 样本权重 sample weight\n",
    "        self._X = np.array(self._dataset)[:, :-1]\n",
    "        self._y = np.array(self._dataset)[:, -1]\n",
    "\n",
    "    def selectSample(self):\n",
    "        select_index = np.random.choice(len(self._dataset), int(len(self._dataset) / 2), p=self._Weight_sample)\n",
    "        select_samples = []\n",
    "        for i in select_index:\n",
    "            select_samples.append(self._dataset[i])\n",
    "        return select_samples\n",
    "\n",
    "    def fit(self):\n",
    "        for i in range(self._T):\n",
    "            data = self.selectSample()\n",
    "            data = np.array(data)\n",
    "            Xtrain = data[:, :-1]\n",
    "            ytrain = data[:, -1]\n",
    "            clf = NB(Xtrain, ytrain)\n",
    "            clf.fit()\n",
    "            predict = clf.predict(self._dataset)\n",
    "            error = 0\n",
    "            for j in range(len(predict)):\n",
    "                if predict[j] != self._dataset[j][-1]:\n",
    "                    error += self._Weight_sample[j]\n",
    "            # 分类器效果差于随机分类器\n",
    "            if error > 0.5:\n",
    "                continue\n",
    "            else:\n",
    "                self._classifier.append(clf)\n",
    "                # 计算分类器系数\n",
    "                weight_classifier = 0.5 * np.log((1 - error) / error)\n",
    "                self._Weight_classifier.append(weight_classifier)\n",
    "                # 计算样本权重\n",
    "                for j in range(len(predict)):\n",
    "                    if predict[j] == self._dataset[j][-1]:\n",
    "                        self._Weight_sample[j] = self._Weight_sample[j] * np.exp(-weight_classifier)\n",
    "                    else:\n",
    "                        self._Weight_sample[j] = self._Weight_sample[j] * np.exp(weight_classifier)\n",
    "                # 样本权重归一化\n",
    "                self._Weight_sample = self._Weight_sample / np.sum(self._Weight_sample)\n",
    "                self._error.append(error)\n",
    "                logger.info(\"第{}个弱分类器训练完成，正确率{:.2f}\".format(i + 1, 1 - error))\n",
    "\n",
    "    def classify(self, test_data):\n",
    "        predict_list = []\n",
    "        for sample in test_data:\n",
    "            predict = []  # 每个弱分类器的预测结果\n",
    "            weight = []  # 每个预测结果的权重\n",
    "            for i in range(len(self._classifier)):\n",
    "                pred = self._classifier[i].classify(sample)\n",
    "                if pred in predict:\n",
    "                    index = predict.index(pred)\n",
    "                    weight[index] += self._Weight_classifier[i]\n",
    "                else:\n",
    "                    predict.append(pred)\n",
    "                    weight.append(self._Weight_classifier[i])\n",
    "            index = weight.index(max(weight))\n",
    "            predict_list.append(predict[index])\n",
    "        return predict_list\n",
    "\n",
    "    def score(self, test_data):\n",
    "        predict = self.classify(test_data)\n",
    "        correct = 0\n",
    "        for i in range(len(test_data)):\n",
    "            if predict[i] == test_data[i][-1]:\n",
    "                correct += 1\n",
    "        return correct / len(test_data)\n",
    "\n",
    "    def base_score(self):\n",
    "        return 1 - np.average(self._error)\n",
    "\n",
    "    def __repr__(self):\n",
    "        return \"AdaBoost\"\n",
    "\n",
    "    def __method__(self):\n",
    "        return \"NaiveBayes\""
   ],
   "metadata": {
    "collapsed": false,
    "ExecuteTime": {
     "end_time": "2023-12-30T10:03:38.906367200Z",
     "start_time": "2023-12-30T10:03:37.886687200Z"
    }
   },
   "id": "d2b8712bce29a90f",
   "execution_count": 1
  },
  {
   "cell_type": "code",
   "outputs": [],
   "source": [
    "def main():\n",
    "    path = '../dataset/archive/DATA.csv'\n",
    "    train_data, test_data, Feature = loadDataSet(path)\n",
    "    adaboost = AdaBoost(20, train_data)\n",
    "    adaboost.fit()\n",
    "    logger.info(\"{} 基分类器平均正确率: {:.2f}%\".format(adaboost.__method__(), adaboost.base_score() * 100))\n",
    "    logger.info(\"{}_{} 分类器正确率: {:.2f}%\".format(adaboost.__repr__(), adaboost.__method__(),\n",
    "                                                     adaboost.score(test_data) * 100))"
   ],
   "metadata": {
    "collapsed": false,
    "ExecuteTime": {
     "end_time": "2023-12-30T10:03:51.359420400Z",
     "start_time": "2023-12-30T10:03:51.339523400Z"
    }
   },
   "id": "194c002f64f1cbab",
   "execution_count": 2
  },
  {
   "cell_type": "code",
   "outputs": [
    {
     "name": "stderr",
     "output_type": "stream",
     "text": [
      "\u001B[32m2023-12-30 18:04:01.855\u001B[0m | \u001B[1mINFO    \u001B[0m | \u001B[36m__main__\u001B[0m:\u001B[36mfit\u001B[0m:\u001B[36m56\u001B[0m - \u001B[1m第1个弱分类器训练完成，正确率0.63\u001B[0m\n",
      "\u001B[32m2023-12-30 18:04:02.016\u001B[0m | \u001B[1mINFO    \u001B[0m | \u001B[36m__main__\u001B[0m:\u001B[36mfit\u001B[0m:\u001B[36m56\u001B[0m - \u001B[1m第2个弱分类器训练完成，正确率0.56\u001B[0m\n",
      "\u001B[32m2023-12-30 18:04:02.177\u001B[0m | \u001B[1mINFO    \u001B[0m | \u001B[36m__main__\u001B[0m:\u001B[36mfit\u001B[0m:\u001B[36m56\u001B[0m - \u001B[1m第3个弱分类器训练完成，正确率0.53\u001B[0m\n",
      "\u001B[32m2023-12-30 18:04:02.338\u001B[0m | \u001B[1mINFO    \u001B[0m | \u001B[36m__main__\u001B[0m:\u001B[36mfit\u001B[0m:\u001B[36m56\u001B[0m - \u001B[1m第4个弱分类器训练完成，正确率0.51\u001B[0m\n",
      "\u001B[32m2023-12-30 18:04:02.516\u001B[0m | \u001B[1mINFO    \u001B[0m | \u001B[36m__main__\u001B[0m:\u001B[36mfit\u001B[0m:\u001B[36m56\u001B[0m - \u001B[1m第5个弱分类器训练完成，正确率0.50\u001B[0m\n",
      "\u001B[32m2023-12-30 18:04:02.838\u001B[0m | \u001B[1mINFO    \u001B[0m | \u001B[36m__main__\u001B[0m:\u001B[36mfit\u001B[0m:\u001B[36m56\u001B[0m - \u001B[1m第7个弱分类器训练完成，正确率0.52\u001B[0m\n",
      "\u001B[32m2023-12-30 18:04:03.009\u001B[0m | \u001B[1mINFO    \u001B[0m | \u001B[36m__main__\u001B[0m:\u001B[36mfit\u001B[0m:\u001B[36m56\u001B[0m - \u001B[1m第8个弱分类器训练完成，正确率0.52\u001B[0m\n",
      "\u001B[32m2023-12-30 18:04:03.168\u001B[0m | \u001B[1mINFO    \u001B[0m | \u001B[36m__main__\u001B[0m:\u001B[36mfit\u001B[0m:\u001B[36m56\u001B[0m - \u001B[1m第9个弱分类器训练完成，正确率0.51\u001B[0m\n",
      "\u001B[32m2023-12-30 18:04:03.487\u001B[0m | \u001B[1mINFO    \u001B[0m | \u001B[36m__main__\u001B[0m:\u001B[36mfit\u001B[0m:\u001B[36m56\u001B[0m - \u001B[1m第11个弱分类器训练完成，正确率0.50\u001B[0m\n",
      "\u001B[32m2023-12-30 18:04:03.843\u001B[0m | \u001B[1mINFO    \u001B[0m | \u001B[36m__main__\u001B[0m:\u001B[36mfit\u001B[0m:\u001B[36m56\u001B[0m - \u001B[1m第13个弱分类器训练完成，正确率0.51\u001B[0m\n",
      "\u001B[32m2023-12-30 18:04:04.003\u001B[0m | \u001B[1mINFO    \u001B[0m | \u001B[36m__main__\u001B[0m:\u001B[36mfit\u001B[0m:\u001B[36m56\u001B[0m - \u001B[1m第14个弱分类器训练完成，正确率0.50\u001B[0m\n",
      "\u001B[32m2023-12-30 18:04:04.163\u001B[0m | \u001B[1mINFO    \u001B[0m | \u001B[36m__main__\u001B[0m:\u001B[36mfit\u001B[0m:\u001B[36m56\u001B[0m - \u001B[1m第15个弱分类器训练完成，正确率0.50\u001B[0m\n",
      "\u001B[32m2023-12-30 18:04:04.529\u001B[0m | \u001B[1mINFO    \u001B[0m | \u001B[36m__main__\u001B[0m:\u001B[36mfit\u001B[0m:\u001B[36m56\u001B[0m - \u001B[1m第17个弱分类器训练完成，正确率0.51\u001B[0m\n",
      "\u001B[32m2023-12-30 18:04:04.692\u001B[0m | \u001B[1mINFO    \u001B[0m | \u001B[36m__main__\u001B[0m:\u001B[36mfit\u001B[0m:\u001B[36m56\u001B[0m - \u001B[1m第18个弱分类器训练完成，正确率0.51\u001B[0m\n",
      "\u001B[32m2023-12-30 18:04:05.018\u001B[0m | \u001B[1mINFO    \u001B[0m | \u001B[36m__main__\u001B[0m:\u001B[36mfit\u001B[0m:\u001B[36m56\u001B[0m - \u001B[1m第20个弱分类器训练完成，正确率0.51\u001B[0m\n",
      "\u001B[32m2023-12-30 18:04:05.019\u001B[0m | \u001B[1mINFO    \u001B[0m | \u001B[36m__main__\u001B[0m:\u001B[36mmain\u001B[0m:\u001B[36m6\u001B[0m - \u001B[1mNaiveBayes 基分类器平均正确率: 52.04%\u001B[0m\n",
      "\u001B[32m2023-12-30 18:04:05.272\u001B[0m | \u001B[1mINFO    \u001B[0m | \u001B[36m__main__\u001B[0m:\u001B[36mmain\u001B[0m:\u001B[36m7\u001B[0m - \u001B[1mAdaBoost_NaiveBayes 分类器正确率: 64.33%\u001B[0m\n"
     ]
    }
   ],
   "source": [
    "if __name__ == \"__main__\":\n",
    "    main()"
   ],
   "metadata": {
    "collapsed": false,
    "ExecuteTime": {
     "end_time": "2023-12-30T10:04:05.287465300Z",
     "start_time": "2023-12-30T10:04:01.548383400Z"
    }
   },
   "id": "a036b5482b85fe3f",
   "execution_count": 3
  }
 ],
 "metadata": {
  "kernelspec": {
   "display_name": "Python 3",
   "language": "python",
   "name": "python3"
  },
  "language_info": {
   "codemirror_mode": {
    "name": "ipython",
    "version": 2
   },
   "file_extension": ".py",
   "mimetype": "text/x-python",
   "name": "python",
   "nbconvert_exporter": "python",
   "pygments_lexer": "ipython2",
   "version": "2.7.6"
  }
 },
 "nbformat": 4,
 "nbformat_minor": 5
}
