{
 "cells": [
  {
   "cell_type": "code",
   "execution_count": 1,
   "id": "initial_id",
   "metadata": {
    "collapsed": true,
    "ExecuteTime": {
     "end_time": "2023-12-30T10:01:07.092743800Z",
     "start_time": "2023-12-30T10:01:06.107645200Z"
    }
   },
   "outputs": [],
   "source": [
    "import numpy as np\n",
    "from loguru import logger\n",
    "\n",
    "from CART import CART\n",
    "from loadDataSet import loadDataSet\n",
    "\n",
    "class AdaBoost:\n",
    "    def __init__(self, dataset, feature, T):\n",
    "        self._dataset = dataset  # 数据集 dataset\n",
    "        self._feature = feature  # 特征 feature\n",
    "        self._classifier = []  # 弱分类器 weak classifier\n",
    "        self._Weight_classifier = []  # 弱分类器的系数 weak classifier coefficient\n",
    "        self._error = []  # 弱分类器的误差 weak classifier error\n",
    "        self._T = T  # 弱分类器的个数 number of weak classifiers\n",
    "        self._Weight_sample = [1 / len(dataset) for _ in range(len(dataset))]  # 样本权重 sample weight\n",
    "\n",
    "    def selectSample(self):\n",
    "        select_index = np.random.choice(len(self._dataset), int(len(self._dataset) / 2), p=self._Weight_sample)\n",
    "        select_samples = []\n",
    "        for i in select_index:\n",
    "            select_samples.append(self._dataset[i])\n",
    "        return select_samples\n",
    "\n",
    "    def fit(self):\n",
    "        for i in range(self._T):\n",
    "            data = self.selectSample()\n",
    "            cart = CART(data, self._feature)\n",
    "            cart.fit()\n",
    "\n",
    "            predict = cart.predict(self._dataset)\n",
    "            error = 0\n",
    "            for j in range(len(predict)):\n",
    "                if predict[j] != self._dataset[j][-1]:\n",
    "                    error += self._Weight_sample[j]\n",
    "            # 分类器效果差于随机分类器\n",
    "            if error > 0.5:\n",
    "                continue\n",
    "            else:\n",
    "                self._classifier.append(cart)\n",
    "                # 计算分类器系数\n",
    "                weight_classifier = 0.5 * np.log((1 - error) / error)\n",
    "                self._Weight_classifier.append(weight_classifier)\n",
    "                # 计算样本权重\n",
    "                for j in range(len(predict)):\n",
    "                    if predict[j] == self._dataset[j][-1]:\n",
    "                        self._Weight_sample[j] = self._Weight_sample[j] * np.exp(-weight_classifier)\n",
    "                    else:\n",
    "                        self._Weight_sample[j] = self._Weight_sample[j] * np.exp(weight_classifier)\n",
    "                # 样本权重归一化\n",
    "                self._Weight_sample = self._Weight_sample / np.sum(self._Weight_sample)\n",
    "                self._error.append(error)\n",
    "                logger.info(\"第{}个弱分类器训练完成，正确率{:.2f}\".format(i + 1, 1 - error))\n",
    "\n",
    "    def classify(self, test_data):\n",
    "        predict_list = []\n",
    "        for sample in test_data:\n",
    "            predict = []  # 每个弱分类器的预测结果\n",
    "            weight = []  # 每个预测结果的权重\n",
    "            for i in range(len(self._classifier)):\n",
    "                pred = self._classifier[i].classify(self._classifier[i].tree, self._feature, sample)\n",
    "                if pred in predict:\n",
    "                    index = predict.index(pred)\n",
    "                    weight[index] += self._Weight_classifier[i]\n",
    "                else:\n",
    "                    predict.append(pred)\n",
    "                    weight.append(self._Weight_classifier[i])\n",
    "            index = weight.index(max(weight))\n",
    "            predict_list.append(predict[index])\n",
    "        return predict_list\n",
    "\n",
    "    def score(self, test_data):\n",
    "        predict = self.classify(test_data)\n",
    "        correct = 0\n",
    "        for i in range(len(test_data)):\n",
    "            if predict[i] == test_data[i][-1]:\n",
    "                correct += 1\n",
    "        return correct / len(test_data)\n",
    "\n",
    "    def base_score(self):\n",
    "        return 1 - np.average(self._error)\n",
    "\n",
    "    def __repr__(self):\n",
    "        return \"AdaBoost\"\n",
    "\n",
    "    def __method__(self):\n",
    "        return \"CART\""
   ]
  },
  {
   "cell_type": "code",
   "outputs": [],
   "source": [
    "def main():\n",
    "    path = '../dataset/archive/DATA.csv'\n",
    "    train_data, test_data, Feature = loadDataSet(path)\n",
    "    adaboost = AdaBoost(train_data, Feature, 20)\n",
    "    adaboost.fit()\n",
    "    logger.info(\"{} 基分类器平均正确率: {:.2f}%\".format(adaboost.__method__(), adaboost.base_score() * 100))\n",
    "    logger.info(\"{}_{} 分类器正确率: {:.2f}%\".format(adaboost.__repr__(), adaboost.__method__(),\n",
    "                                               adaboost.score(test_data) * 100))"
   ],
   "metadata": {
    "collapsed": false,
    "ExecuteTime": {
     "end_time": "2023-12-30T10:01:22.912787300Z",
     "start_time": "2023-12-30T10:01:22.893989800Z"
    }
   },
   "id": "a839ccbe389ea362",
   "execution_count": 3
  },
  {
   "cell_type": "code",
   "outputs": [
    {
     "name": "stderr",
     "output_type": "stream",
     "text": [
      "\u001B[32m2023-12-30 21:40:39.339\u001B[0m | \u001B[1mINFO    \u001B[0m | \u001B[36m__main__\u001B[0m:\u001B[36mfit\u001B[0m:\u001B[36m52\u001B[0m - \u001B[1m第1个弱分类器训练完成，正确率0.66\u001B[0m\n",
      "\u001B[32m2023-12-30 21:40:39.615\u001B[0m | \u001B[1mINFO    \u001B[0m | \u001B[36m__main__\u001B[0m:\u001B[36mfit\u001B[0m:\u001B[36m52\u001B[0m - \u001B[1m第2个弱分类器训练完成，正确率0.62\u001B[0m\n",
      "\u001B[32m2023-12-30 21:40:39.891\u001B[0m | \u001B[1mINFO    \u001B[0m | \u001B[36m__main__\u001B[0m:\u001B[36mfit\u001B[0m:\u001B[36m52\u001B[0m - \u001B[1m第3个弱分类器训练完成，正确率0.59\u001B[0m\n",
      "\u001B[32m2023-12-30 21:40:40.163\u001B[0m | \u001B[1mINFO    \u001B[0m | \u001B[36m__main__\u001B[0m:\u001B[36mfit\u001B[0m:\u001B[36m52\u001B[0m - \u001B[1m第4个弱分类器训练完成，正确率0.60\u001B[0m\n",
      "\u001B[32m2023-12-30 21:40:40.459\u001B[0m | \u001B[1mINFO    \u001B[0m | \u001B[36m__main__\u001B[0m:\u001B[36mfit\u001B[0m:\u001B[36m52\u001B[0m - \u001B[1m第5个弱分类器训练完成，正确率0.60\u001B[0m\n",
      "\u001B[32m2023-12-30 21:40:40.759\u001B[0m | \u001B[1mINFO    \u001B[0m | \u001B[36m__main__\u001B[0m:\u001B[36mfit\u001B[0m:\u001B[36m52\u001B[0m - \u001B[1m第6个弱分类器训练完成，正确率0.58\u001B[0m\n",
      "\u001B[32m2023-12-30 21:40:41.032\u001B[0m | \u001B[1mINFO    \u001B[0m | \u001B[36m__main__\u001B[0m:\u001B[36mfit\u001B[0m:\u001B[36m52\u001B[0m - \u001B[1m第7个弱分类器训练完成，正确率0.58\u001B[0m\n",
      "\u001B[32m2023-12-30 21:40:41.308\u001B[0m | \u001B[1mINFO    \u001B[0m | \u001B[36m__main__\u001B[0m:\u001B[36mfit\u001B[0m:\u001B[36m52\u001B[0m - \u001B[1m第8个弱分类器训练完成，正确率0.56\u001B[0m\n",
      "\u001B[32m2023-12-30 21:40:41.581\u001B[0m | \u001B[1mINFO    \u001B[0m | \u001B[36m__main__\u001B[0m:\u001B[36mfit\u001B[0m:\u001B[36m52\u001B[0m - \u001B[1m第9个弱分类器训练完成，正确率0.55\u001B[0m\n",
      "\u001B[32m2023-12-30 21:40:41.878\u001B[0m | \u001B[1mINFO    \u001B[0m | \u001B[36m__main__\u001B[0m:\u001B[36mfit\u001B[0m:\u001B[36m52\u001B[0m - \u001B[1m第10个弱分类器训练完成，正确率0.57\u001B[0m\n",
      "\u001B[32m2023-12-30 21:40:42.131\u001B[0m | \u001B[1mINFO    \u001B[0m | \u001B[36m__main__\u001B[0m:\u001B[36mfit\u001B[0m:\u001B[36m52\u001B[0m - \u001B[1m第11个弱分类器训练完成，正确率0.56\u001B[0m\n",
      "\u001B[32m2023-12-30 21:40:42.438\u001B[0m | \u001B[1mINFO    \u001B[0m | \u001B[36m__main__\u001B[0m:\u001B[36mfit\u001B[0m:\u001B[36m52\u001B[0m - \u001B[1m第12个弱分类器训练完成，正确率0.56\u001B[0m\n",
      "\u001B[32m2023-12-30 21:40:42.719\u001B[0m | \u001B[1mINFO    \u001B[0m | \u001B[36m__main__\u001B[0m:\u001B[36mfit\u001B[0m:\u001B[36m52\u001B[0m - \u001B[1m第13个弱分类器训练完成，正确率0.55\u001B[0m\n",
      "\u001B[32m2023-12-30 21:40:43.010\u001B[0m | \u001B[1mINFO    \u001B[0m | \u001B[36m__main__\u001B[0m:\u001B[36mfit\u001B[0m:\u001B[36m52\u001B[0m - \u001B[1m第14个弱分类器训练完成，正确率0.54\u001B[0m\n",
      "\u001B[32m2023-12-30 21:40:43.307\u001B[0m | \u001B[1mINFO    \u001B[0m | \u001B[36m__main__\u001B[0m:\u001B[36mfit\u001B[0m:\u001B[36m52\u001B[0m - \u001B[1m第15个弱分类器训练完成，正确率0.55\u001B[0m\n",
      "\u001B[32m2023-12-30 21:40:43.569\u001B[0m | \u001B[1mINFO    \u001B[0m | \u001B[36m__main__\u001B[0m:\u001B[36mfit\u001B[0m:\u001B[36m52\u001B[0m - \u001B[1m第16个弱分类器训练完成，正确率0.54\u001B[0m\n",
      "\u001B[32m2023-12-30 21:40:43.859\u001B[0m | \u001B[1mINFO    \u001B[0m | \u001B[36m__main__\u001B[0m:\u001B[36mfit\u001B[0m:\u001B[36m52\u001B[0m - \u001B[1m第17个弱分类器训练完成，正确率0.53\u001B[0m\n",
      "\u001B[32m2023-12-30 21:40:44.177\u001B[0m | \u001B[1mINFO    \u001B[0m | \u001B[36m__main__\u001B[0m:\u001B[36mfit\u001B[0m:\u001B[36m52\u001B[0m - \u001B[1m第18个弱分类器训练完成，正确率0.54\u001B[0m\n",
      "\u001B[32m2023-12-30 21:40:44.495\u001B[0m | \u001B[1mINFO    \u001B[0m | \u001B[36m__main__\u001B[0m:\u001B[36mfit\u001B[0m:\u001B[36m52\u001B[0m - \u001B[1m第19个弱分类器训练完成，正确率0.53\u001B[0m\n",
      "\u001B[32m2023-12-30 21:40:44.800\u001B[0m | \u001B[1mINFO    \u001B[0m | \u001B[36m__main__\u001B[0m:\u001B[36mfit\u001B[0m:\u001B[36m52\u001B[0m - \u001B[1m第20个弱分类器训练完成，正确率0.53\u001B[0m\n",
      "\u001B[32m2023-12-30 21:40:44.801\u001B[0m | \u001B[1mINFO    \u001B[0m | \u001B[36m__main__\u001B[0m:\u001B[36mmain\u001B[0m:\u001B[36m6\u001B[0m - \u001B[1mCART 基分类器平均正确率: 56.61%\u001B[0m\n",
      "\u001B[32m2023-12-30 21:40:44.906\u001B[0m | \u001B[1mINFO    \u001B[0m | \u001B[36m__main__\u001B[0m:\u001B[36mmain\u001B[0m:\u001B[36m7\u001B[0m - \u001B[1mAdaBoost_CART 分类器正确率: 60.92%\u001B[0m\n"
     ]
    }
   ],
   "source": [
    "if __name__ == \"__main__\":\n",
    "    main()"
   ],
   "metadata": {
    "collapsed": false,
    "ExecuteTime": {
     "end_time": "2023-12-30T13:40:44.928227700Z",
     "start_time": "2023-12-30T13:40:38.885008600Z"
    }
   },
   "id": "b37c8d1ed105f876",
   "execution_count": 5
  },
  {
   "cell_type": "code",
   "outputs": [],
   "source": [],
   "metadata": {
    "collapsed": false
   },
   "id": "133585cd73ba6bae"
  }
 ],
 "metadata": {
  "kernelspec": {
   "display_name": "Python 3",
   "language": "python",
   "name": "python3"
  },
  "language_info": {
   "codemirror_mode": {
    "name": "ipython",
    "version": 2
   },
   "file_extension": ".py",
   "mimetype": "text/x-python",
   "name": "python",
   "nbconvert_exporter": "python",
   "pygments_lexer": "ipython2",
   "version": "2.7.6"
  }
 },
 "nbformat": 4,
 "nbformat_minor": 5
}
