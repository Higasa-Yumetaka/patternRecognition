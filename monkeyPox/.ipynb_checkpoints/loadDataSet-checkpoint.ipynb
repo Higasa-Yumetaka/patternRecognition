{
 "cells": [
  {
   "cell_type": "code",
   "outputs": [],
   "source": [
    "import csv\n",
    "import numpy as np\n",
    "from sklearn.model_selection import train_test_split\n",
    "\n",
    "def loadDataSet(filename, separate=False, test_size=0.1):\n",
    "    with open(filename, 'r') as file:\n",
    "        Data = np.array(list(csv.reader(file, delimiter=',', quotechar='\"')))\n",
    "        Data = Data[:5000, 1:]\n",
    "        Feature = Data[0, :-1]\n",
    "        Data = Data[1:, :]\n",
    "        if separate:\n",
    "            xtrain, xtest, ytrain, ytest = train_test_split(Data[:, :-1], Data[:, -1], test_size=test_size,\n",
    "                                                            random_state=0)\n",
    "            return xtrain, xtest, ytrain, ytest, Feature\n",
    "        else:\n",
    "            train_data, test_data = train_test_split(Data, test_size=test_size, random_state=0)\n",
    "            train_Data = train_data[1:, :]\n",
    "            test_Data = test_data[1:, :]\n",
    "            train_Data = train_Data.tolist()\n",
    "            test_Data = test_Data.tolist()\n",
    "            Feature = Feature.tolist()\n",
    "            return train_Data, test_Data, Feature\n"
   ],
   "metadata": {
    "collapsed": false
   },
   "id": "4fec71c7c6fd151c"
  }
 ],
 "metadata": {
  "kernelspec": {
   "name": "python3",
   "language": "python",
   "display_name": "Python 3 (ipykernel)"
  }
 },
 "nbformat": 4,
 "nbformat_minor": 5
}
