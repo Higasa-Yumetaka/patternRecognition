{
 "cells": [
  {
   "cell_type": "code",
   "execution_count": 1,
   "id": "initial_id",
   "metadata": {
    "ExecuteTime": {
     "end_time": "2023-12-30T10:02:33.998423500Z",
     "start_time": "2023-12-30T10:02:32.981370700Z"
    }
   },
   "outputs": [],
   "source": [
    "from collections import defaultdict\n",
    "\n",
    "import numpy as np\n",
    "from loguru import logger\n",
    "from loadDataSet import loadDataSet\n",
    "\n",
    "T = 20  # 迭代次数\n",
    "\n",
    "\n",
    "class NaiveBayes:\n",
    "    def __init__(self, X, y):\n",
    "        self._prior_prob = defaultdict(float)  # 先验概率\n",
    "        self._likelihood = defaultdict(defaultdict)  # 条件概率\n",
    "        self._ck_counter = defaultdict(float)  # 类别计数\n",
    "        self._Sj = defaultdict(float)\n",
    "        self._X = X\n",
    "        self._y = y\n",
    "\n",
    "    def fit(self):\n",
    "        n_samples, n_features = self._X.shape\n",
    "        ck, ck_cnt = np.unique(self._y, return_counts=True)\n",
    "        self._ck_counter = dict(zip(ck, ck_cnt))\n",
    "        for label, num_label in self._ck_counter.items():\n",
    "            self._prior_prob[label] = (num_label + 1) / (n_samples + ck.shape[0])\n",
    "        ck_idx = []\n",
    "        for label in ck:\n",
    "            label_idx = np.squeeze(np.argwhere(self._y == label))\n",
    "            ck_idx.append(label_idx)\n",
    "        ck_idx = [np.atleast_1d(arr) for arr in ck_idx]\n",
    "        # 遍历每个类别\n",
    "        for label, idx in zip(ck, ck_idx):\n",
    "            xdata = self._X[idx]\n",
    "            # 记录该类别所有特征对应的概率\n",
    "            label_likelihood = defaultdict(defaultdict)\n",
    "            for i in range(n_features):\n",
    "                feature_val_prob = defaultdict(float)\n",
    "                # 获取该列特征可能的取值和每个取值出现的次数\n",
    "                feature_val, feature_cnt = np.unique(xdata[:, i],\n",
    "                                                     return_counts=True)\n",
    "                self._Sj[i] = feature_val.shape[0]\n",
    "                feature_counter = dict(zip(feature_val, feature_cnt))\n",
    "                for fea_val, cnt in feature_counter.items():\n",
    "                    # 计算该列特征每个取值的概率，做了拉普拉斯平滑，即为了计算P（x | y）\n",
    "                    feature_val_prob[fea_val] = (cnt + 1) / (self._ck_counter[label] + self._Sj[i])\n",
    "                label_likelihood[i] = feature_val_prob\n",
    "            self._likelihood[label] = label_likelihood\n",
    "\n",
    "    def classify(self, x):\n",
    "        # 保存分类到每个类别的后验概率，即计算P（y|x）\n",
    "        post_prob = defaultdict(float)\n",
    "        # 遍历每个类别计算后验概率\n",
    "        for label, label_likelihood in self._likelihood.items():\n",
    "            prob = np.log(self._prior_prob[label])\n",
    "            # 遍历样本每一维特征\n",
    "            for i, fea_val in enumerate(x):\n",
    "                feature_val_prob = label_likelihood[i]\n",
    "                # 如果该特征值出现在训练集中则直接获取概率\n",
    "                if fea_val in feature_val_prob:\n",
    "                    prob += np.log(feature_val_prob[fea_val])\n",
    "                else:\n",
    "                    # 如果该特征没有出现在训练集中则采用拉普拉斯平滑计概率\n",
    "                    laplace_prob = 1 / (self._ck_counter[label] + self._Sj[i])\n",
    "                    prob += np.log(laplace_prob)\n",
    "            post_prob[label] = prob\n",
    "        prob_list = list(post_prob.items())\n",
    "        prob_list.sort(key=lambda v: v[1], reverse=True)\n",
    "        # 返回后验概率最大的类别作为预测类别\n",
    "        return prob_list[0][0]\n",
    "\n",
    "    def predict(self, X):\n",
    "        y_pred = []\n",
    "        for x in X:\n",
    "            y_pred.append(self.classify(x))\n",
    "        return y_pred\n",
    "\n",
    "    def score(self, X, y):\n",
    "        y_pred = self.predict(X)\n",
    "        return np.sum(y_pred == y) / len(y)\n",
    "\n",
    "    def __repr__(self):\n",
    "        return \"NaiveBayes\""
   ]
  },
  {
   "cell_type": "code",
   "execution_count": 2,
   "id": "1001fb4bf7ca7b29",
   "metadata": {
    "ExecuteTime": {
     "end_time": "2023-12-30T10:02:47.388914900Z",
     "start_time": "2023-12-30T10:02:47.357030500Z"
    },
    "collapsed": false,
    "jupyter": {
     "outputs_hidden": false
    }
   },
   "outputs": [],
   "source": [
    "def main():\n",
    "    xtrain, xtest, ytrain, ytest, feature = loadDataSet(\"../dataset/archive/DATA.csv\", separate=True)\n",
    "    clf = NaiveBayes(xtrain, ytrain)\n",
    "    clf.fit()\n",
    "    logger.info(\"{} Accuracy: {:.2f}%\".format(clf.__repr__(), clf.score(xtest, ytest) * 100))"
   ]
  },
  {
   "cell_type": "code",
   "execution_count": 3,
   "id": "a3057db188350348",
   "metadata": {
    "ExecuteTime": {
     "end_time": "2023-12-30T10:02:53.820562300Z",
     "start_time": "2023-12-30T10:02:53.629850500Z"
    },
    "collapsed": false,
    "jupyter": {
     "outputs_hidden": false
    }
   },
   "outputs": [
    {
     "name": "stderr",
     "output_type": "stream",
     "text": [
      "\u001b[32m2023-12-30 18:02:53.801\u001b[0m | \u001b[1mINFO    \u001b[0m | \u001b[36m__main__\u001b[0m:\u001b[36mmain\u001b[0m:\u001b[36m5\u001b[0m - \u001b[1mNaiveBayes Accuracy: 67.20%\u001b[0m\n"
     ]
    }
   ],
   "source": [
    "if __name__ == \"__main__\":\n",
    "    main()"
   ]
  }
 ],
 "metadata": {
  "kernelspec": {
   "display_name": "Python 3 (ipykernel)",
   "language": "python",
   "name": "python3"
  },
  "language_info": {
   "codemirror_mode": {
    "name": "ipython",
    "version": 3
   },
   "file_extension": ".py",
   "mimetype": "text/x-python",
   "name": "python",
   "nbconvert_exporter": "python",
   "pygments_lexer": "ipython3",
   "version": "3.10.13"
  }
 },
 "nbformat": 4,
 "nbformat_minor": 5
}
